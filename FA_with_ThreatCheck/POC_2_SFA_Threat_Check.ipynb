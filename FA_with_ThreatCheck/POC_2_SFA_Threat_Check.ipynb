{
  "nbformat": 4,
  "nbformat_minor": 0,
  "metadata": {
    "colab": {
      "provenance": [],
      "mount_file_id": "1n0m_gJoX65d8qz1FUmjLO1nNI8xuRjgf",
      "authorship_tag": "ABX9TyNGErghAiiwiLG5+vqfDyLj",
      "include_colab_link": true
    },
    "kernelspec": {
      "name": "python3",
      "display_name": "Python 3"
    },
    "language_info": {
      "name": "python"
    }
  },
  "cells": [
    {
      "cell_type": "markdown",
      "metadata": {
        "id": "view-in-github",
        "colab_type": "text"
      },
      "source": [
        "<a href=\"https://colab.research.google.com/github/sarkar-sayan/Feedback_Analysis-using-Machine_Learning_NLP_GenerativeAI/blob/main/POC_2_SFA_Threat_Check.ipynb\" target=\"_parent\"><img src=\"https://colab.research.google.com/assets/colab-badge.svg\" alt=\"Open In Colab\"/></a>"
      ]
    },
    {
      "cell_type": "code",
      "execution_count": null,
      "metadata": {
        "colab": {
          "base_uri": "https://localhost:8080/"
        },
        "id": "hnIsYY2tO0O1",
        "outputId": "8354edb6-6f0d-4faf-83e8-28c86264153c"
      },
      "outputs": [
        {
          "output_type": "stream",
          "name": "stdout",
          "text": [
            "Mounted at /content/drive\n"
          ]
        }
      ],
      "source": [
        "from google.colab import drive\n",
        "drive.mount('/content/drive')"
      ]
    },
    {
      "cell_type": "code",
      "source": [
        "pip install groq"
      ],
      "metadata": {
        "id": "6GRcpl8vO8lh"
      },
      "execution_count": null,
      "outputs": []
    },
    {
      "cell_type": "code",
      "source": [
        "import pandas as pd\n",
        "import numpy as np\n",
        "from sklearn.model_selection import train_test_split, GridSearchCV\n",
        "from sklearn.feature_extraction.text import TfidfVectorizer\n",
        "from sklearn.pipeline import Pipeline\n",
        "from sklearn.preprocessing import StandardScaler, LabelEncoder, FunctionTransformer\n",
        "from sklearn.metrics import accuracy_score, classification_report\n",
        "from nltk.corpus import stopwords\n",
        "from nltk.tokenize import word_tokenize\n",
        "from nltk.stem import WordNetLemmatizer\n",
        "from imblearn.over_sampling import SMOTE\n",
        "from sklearn.compose import ColumnTransformer\n",
        "from sklearn.linear_model import LogisticRegression\n",
        "from sklearn.svm import SVC\n",
        "import re\n",
        "import nltk\n",
        "import os\n",
        "import pickle\n",
        "from IPython.display import display\n",
        "\n",
        "#from langdetect import detect\n",
        "#from googletrans import Translator\n",
        "# Initialize Google Translator\n",
        "#translator = Translator()\n",
        "\n",
        "# Download necessary NLTK data\n",
        "nltk.download('stopwords')\n",
        "nltk.download('punkt')\n",
        "nltk.download('wordnet')\n"
      ],
      "metadata": {
        "id": "AVKpugXlO4ma"
      },
      "execution_count": null,
      "outputs": []
    },
    {
      "cell_type": "code",
      "source": [
        "from groq import Groq\n",
        "!export GROQ_API_KEY='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'\n",
        "\n",
        "client = Groq(\n",
        "    # This is the default and can be omitted\n",
        "    api_key='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'\n",
        "    #api_key=os.environ.get(\"GROQ_API_KEY\"),\n",
        ")"
      ],
      "metadata": {
        "id": "wl4507SWO_iL"
      },
      "execution_count": null,
      "outputs": []
    },
    {
      "cell_type": "code",
      "source": [],
      "metadata": {
        "id": "OHJYh2eePG-O"
      },
      "execution_count": null,
      "outputs": []
    },
    {
      "cell_type": "code",
      "source": [
        "# Text preprocessing function\n",
        "# Translate text if not in English\n",
        "#def translate_text_if_needed(text):\n",
        "#    try:\n",
        "#        language = detect(text)\n",
        "#        if language != 'en':\n",
        "#            translated = translator.translate(text, dest='en')\n",
        "#            return translated.text\n",
        "#        return text\n",
        "#    except Exception as e:\n",
        "#        return text\n",
        "\n",
        "def preprocess_text(text):\n",
        "    text = text.lower()\n",
        "    text = re.sub(r'\\d+', '', text)\n",
        "    text = re.sub(r'\\s+', ' ', text)\n",
        "    text = re.sub(r'[^\\w\\s]', '', text)\n",
        "    tokens = word_tokenize(text)\n",
        "    stop_words = set(stopwords.words('english'))\n",
        "    lemmatizer = WordNetLemmatizer()\n",
        "    filtered_text = ' '.join([lemmatizer.lemmatize(word) for word in tokens if word not in stop_words])\n",
        "    return filtered_text\n"
      ],
      "metadata": {
        "id": "V3cH9TbHPPxv"
      },
      "execution_count": null,
      "outputs": []
    },
    {
      "cell_type": "code",
      "source": [
        "def prepare_data(dataset_url):\n",
        "  df = pd.read_csv(dataset_url)\n",
        "  # preprocess data accroding to survey form\n",
        "  #df.drop('Timestamp = A12 + A4', axis=1, inplace=True)\n",
        "  df = df.dropna(subset=[\"Timestamp = A12 + A4\"])  # if Timestamp == null, that means empty row, i.e, the form has never been filled\n",
        "\n",
        "  # Join all textual columns into one\n",
        "  feedback_columns = [col for col in df.columns if 'Overall feedback' in col]\n",
        "  df['All_feedback'] = df[feedback_columns].apply(lambda row: ' '.join(row.values.astype(str)), axis=1)\n",
        "  #df['All_feedback'] = df['All_feedback'].apply(translate_text_if_needed)\n",
        "  df.drop(feedback_columns, axis=1, inplace=True)\n",
        "  # Preprocess textual feedback\n",
        "  df['All_feedback'] = df['All_feedback'].apply(preprocess_text)\n",
        "  return df"
      ],
      "metadata": {
        "id": "DFk9XcgSQNis"
      },
      "execution_count": null,
      "outputs": []
    },
    {
      "cell_type": "code",
      "source": [
        "def train_test_model(data):\n",
        "  X = data.drop('Final Label', axis=1)\n",
        "  y = data['Final Label']\n",
        "\n",
        "  # Train/Test Split\n",
        "  X_train, X_test, y_train, y_test = train_test_split(X, y, test_size=0.2, random_state=42, shuffle=True)\n",
        "  # Define ColumnTransformer to separate numerical and text data processing\n",
        "  preprocessor = ColumnTransformer(\n",
        "      transformers=[\n",
        "          ('num', StandardScaler(), X.select_dtypes(include='number').columns.tolist()),\n",
        "          ('text', TfidfVectorizer(), 'All_feedback')\n",
        "          ],\n",
        "      remainder='drop'\n",
        "      )\n",
        "\n",
        "  # Define the pipeline\n",
        "  pipeline = Pipeline([\n",
        "      ('preprocessor', preprocessor),\n",
        "      ('classifier', LogisticRegression(random_state=42))\n",
        "      ])\n",
        "\n",
        "  pipeline.fit(X_train, y_train)\n",
        "\n",
        "  # Predict on the test set\n",
        "  y_pred = pipeline.predict(X_test)\n",
        "\n",
        "  #print(\"Accuracy:\", accuracy_score(y_test, y_pred))\n",
        "  #print(\"Classification Report:\")\n",
        "  #print(classification_report(y_test, y_pred))\n",
        "  return pipeline"
      ],
      "metadata": {
        "id": "7mtPk4g-SYOk"
      },
      "execution_count": null,
      "outputs": []
    },
    {
      "cell_type": "code",
      "source": [
        "def predict_feedback_proba(pipeline, sample):\n",
        "    sample_df = pd.DataFrame([sample])\n",
        "    sample_df = sample.to_frame().T\n",
        "    y_prob = pipeline.predict_proba(sample_df)\n",
        "    prob_pos = y_prob[0][1] * 100  # Probability of being positive\n",
        "    prob_neg = y_prob[0][0] * 100  # Probability of being negative\n",
        "    return prob_pos, prob_neg"
      ],
      "metadata": {
        "id": "chgGyXrFPYRW"
      },
      "execution_count": null,
      "outputs": []
    },
    {
      "cell_type": "code",
      "source": [
        "# Function to generate detailed feedback using OpenAI's GPT-4\n",
        "def generate_detailed_feedback(numerical_data, textual_feedback, prob_pos, prob_neg):\n",
        "    # Convert numerical_data to a string representation\n",
        "    numerical_data_str = str(numerical_data)\n",
        "\n",
        "    prompt = f\"Using the following numerical ratings and feedback:\\n\\nNumerical Ratings: {numerical_data_str}\\n\\nTextual Feedback: {textual_feedback}\\n\\nProbability of being positive: {prob_pos:.2f}%\\n\\nProbability of being negative: {prob_neg:.2f}%\\n\\nPlease provide a very short final feedback according to the client, i.e, either positive or negative. Not both.Give output in the form of either Positive, Mostly Positive, Negative or Mostly Negative with the probability percentage. And then Improvements or Matters to focus upon:\"\n",
        "    chat_completion = client.chat.completions.create(\n",
        "    messages = [\n",
        "    {\n",
        "        \"role\": \"system\",\n",
        "        \"content\": \"You are an intelligent and helpful assistant.\",\n",
        "    },\n",
        "{\n",
        "        \"role\": \"user\",\n",
        "        \"content\": prompt, # Use the formatted prompt here\n",
        "    },\n",
        "    ],\n",
        "    model=\"llama3-8b-8192\" # Add the model keyword argument here\n",
        "    )\n",
        "    return chat_completion.choices[0].message.content.strip()  # Extract the content from the response\n"
      ],
      "metadata": {
        "id": "22JEbmF3PlFG"
      },
      "execution_count": null,
      "outputs": []
    },
    {
      "cell_type": "code",
      "source": [
        "def generate_feedback(pipeline, sample):\n",
        "  # Example usage\n",
        "  #prob_pos, prob_neg = predict_feedback_proba(pipeline, sample)\n",
        "  #print(f\"Sample:\\n{sample}\")\n",
        "  #print(f\"Probability of being positive: {prob_pos:.2f}%\")\n",
        "  #print(f\"Probability of being negative: {prob_neg:.2f}%\")\n",
        "\n",
        "  numerical_data = sample.drop('All_feedback').to_dict()\n",
        "  textual_feedback = sample['All_feedback']\n",
        "  prob_pos, prob_neg = predict_feedback_proba(pipeline, sample)\n",
        "  detailed_feedback = generate_detailed_feedback(numerical_data, textual_feedback, prob_pos, prob_neg)\n",
        "  return detailed_feedback"
      ],
      "metadata": {
        "id": "FuvUnEaXPqT_"
      },
      "execution_count": null,
      "outputs": []
    },
    {
      "cell_type": "code",
      "source": [
        "def get_model_ready():\n",
        "  dataset_url = input(\"Enter the dataset URL: \")\n",
        "  df = prepare_data(dataset_url)\n",
        "  pipeline = train_test_model(df)\n",
        "  return pipeline"
      ],
      "metadata": {
        "id": "_cn-ZjUsbu2h"
      },
      "execution_count": null,
      "outputs": []
    },
    {
      "cell_type": "code",
      "source": [
        "def get_feedback(pipeline, url):\n",
        "  feedform_url = url\n",
        "  data = prepare_data(feedform_url)\n",
        "  df = pd.read_csv(feedform_url)\n",
        "  df['Result'] = \"\"\n",
        "  for i in range(len(data)):\n",
        "    sample = data.iloc[i]\n",
        "    print(\"\\nFeedback: \", i+1)\n",
        "    print(\"Client Name: \", data['Client Name'].iloc[i])\n",
        "    pos, neg = predict_feedback_proba(pipeline, sample)\n",
        "    df.at[i, 'Final Label'] = \"positive\" if pos > neg else \"negative\"\n",
        "    feed = generate_feedback(pipeline, sample)\n",
        "    df.at[i, 'Result'] = feed\n",
        "    print(feed)\n",
        "  #data = data.drop('All_feedback', axis=1)\n",
        "  df.to_csv(feedform_url, index=False)"
      ],
      "metadata": {
        "id": "SnCq-zL8aUKo"
      },
      "execution_count": null,
      "outputs": []
    },
    {
      "cell_type": "code",
      "source": [
        "def dump_load_classifier():\n",
        "  pipeline = get_model_ready()\n",
        "  # save the model to disk\n",
        "  filename = '---/finalized_model.sav'\n",
        "  pickle.dump(pipeline, open(filename, 'wb'))\n",
        "  #load_pipeline = pickle.load(open(filename, 'rb'))\n",
        "  return filename\n",
        "\n",
        "def execute_one(url):\n",
        "  filename = dump_load_classifier()     #if classifier not trained, uncomment\n",
        "  #filename = input(\"Enter Pre-trained classifier url\")    #if classifier already trained and saved, uncomment\n",
        "  pipeline = pickle.load(open(filename, 'rb'))\n",
        "  get_feedback(pipeline, url)"
      ],
      "metadata": {
        "id": "ZaSSsD8hXWpL"
      },
      "execution_count": null,
      "outputs": []
    },
    {
      "cell_type": "code",
      "source": [
        "def threat_check(df):\n",
        "  unique_clients = df['Client Name'].unique()\n",
        "  result_dict = {client: 0 for client in unique_clients}\n",
        "  for index, row in df.iterrows():\n",
        "    client_name = row['Client Name']\n",
        "    final_label = row['Final Label']\n",
        "    if final_label == 'negative':\n",
        "      result_dict[client_name] += 1\n",
        "\n",
        "  return [client_name for client_name, value in result_dict.items() if value > 2]\n",
        "\n",
        "def filtered_threats_as_table(df, threat_dict):\n",
        "    filtered_df = df[(df['Client Name'].isin(threat_dict)) & (df['Final Label'] == 'negative')]\n",
        "    ordered_df = filtered_df.sort_values(by='Client Name')\n",
        "    return ordered_df\n",
        "\n",
        "def execute_two(df):\n",
        "  threats = threat_check(df)\n",
        "  threat_data = filtered_threats_as_table(df, threats)\n",
        "  display(threat_data)"
      ],
      "metadata": {
        "id": "s04ZhUARXg5v"
      },
      "execution_count": null,
      "outputs": []
    },
    {
      "cell_type": "code",
      "source": [
        "# For displaying individual feedbacks without using Table\n",
        "\"\"\"def display_threat_reviews(df, threat_dict):\n",
        "    negative_reviews = {}\n",
        "    for index, row in df.iterrows():\n",
        "        client_name = row['Client Name']\n",
        "        final_label = row['Final Label']\n",
        "        result = row['Result']\n",
        "\n",
        "        if client_name in threat_dict and final_label == 'negative':\n",
        "            if client_name not in negative_reviews:\n",
        "                negative_reviews[client_name] = [result]\n",
        "            else:\n",
        "                negative_reviews[client_name].append(result)\n",
        "    # Print the negative reviews for each client\n",
        "    for client_name, reviews in negative_reviews.items():\n",
        "      print(f\"Client: {client_name}\")\n",
        "      for review in reviews:\n",
        "        print(f\"  - {review}\") \"\"\"\n"
      ],
      "metadata": {
        "id": "zabYCEB4YF18"
      },
      "execution_count": null,
      "outputs": []
    },
    {
      "cell_type": "code",
      "source": [
        "def main():\n",
        "  feedform_url = input(\"Enter the URL where feedback data for generating analysis is stored: \")\n",
        "  df = pd.read_csv(feedform_url)\n",
        "  execute_one(feedform_url)           # for generating and placing review feeds into Output table\n",
        "  execute_two(df)                     # for multiple negative reviews by same client"
      ],
      "metadata": {
        "id": "7XmcwX3Jjyi_"
      },
      "execution_count": null,
      "outputs": []
    },
    {
      "cell_type": "code",
      "source": [
        "if __name__ == \"__main__\":\n",
        "  main()"
      ],
      "metadata": {
        "id": "auVE5K3HlVhV"
      },
      "execution_count": null,
      "outputs": []
    },
    {
      "cell_type": "code",
      "source": [],
      "metadata": {
        "id": "u6S4oF_HGTod"
      },
      "execution_count": null,
      "outputs": []
    }
  ]
}
